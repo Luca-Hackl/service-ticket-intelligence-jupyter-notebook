{
 "cells": [
  {
   "cell_type": "markdown",
   "metadata": {},
   "source": [
    "# Service Ticket Intelligence Recommendation \n",
    "\n",
    "In this notebook, we will see how to prepare the data for recommendation, upload the data, start training and do inference."
   ]
  },
  {
   "cell_type": "markdown",
   "metadata": {},
   "source": [
    "### Install pyjwt library if not already installed"
   ]
  },
  {
   "cell_type": "code",
   "execution_count": null,
   "metadata": {},
   "outputs": [],
   "source": [
    "import os\n",
    "import pandas as pd\n",
    "from sklearn.model_selection import train_test_split\n",
    "\n",
    "%matplotlib inline\n",
    "import matplotlib.pyplot as plt\n",
    "import requests\n",
    "import base64"
   ]
  },
  {
   "cell_type": "markdown",
   "metadata": {},
   "source": [
    "### Load and prepare data\n",
    "\n",
    "We have a small dataset of questions asked in Quora. We will attempt to build a recommendation model that will recommend similiar questions if we get similar questions (e.g. worded differently, but semantically have same meaning). In the same way, for new incoming service tickets, similar tickets can be recommended to service agents to aid in faster resolution. "
   ]
  },
  {
   "cell_type": "markdown",
   "metadata": {},
   "source": [
    "The below code block loads the data from file"
   ]
  },
  {
   "cell_type": "code",
   "execution_count": null,
   "metadata": {},
   "outputs": [],
   "source": [
    "df = pd.read_csv(\"../datasets/quora.csv\")"
   ]
  },
  {
   "cell_type": "markdown",
   "metadata": {},
   "source": [
    "### Let's see the data"
   ]
  },
  {
   "cell_type": "code",
   "execution_count": null,
   "metadata": {
    "scrolled": false
   },
   "outputs": [],
   "source": [
    "df.head()"
   ]
  },
  {
   "cell_type": "markdown",
   "metadata": {},
   "source": [
    "### Let's select the input and output mappings for training\n",
    "\n",
    "The mapping describes which columns in the upload file should be used as sample input and which ones are to be used as the classification output that the model should learn."
   ]
  },
  {
   "cell_type": "code",
   "execution_count": null,
   "metadata": {},
   "outputs": [],
   "source": [
    "input_cols = ['subject']\n",
    "output_cols = ['subject', 'article_id', 'article_desc', 'article_url']\n",
    "all_cols = input_cols + output_cols"
   ]
  },
  {
   "cell_type": "markdown",
   "metadata": {},
   "source": [
    "# STI REST Endpoints\n",
    "\n",
    "The STI service can be accessed and controlled through REST endpoint.\n",
    "Documentation can be found in the following link: https://help.sap.com/viewer/product/SERVICE_TICKET_INTELLIGENCE"
   ]
  },
  {
   "cell_type": "markdown",
   "metadata": {},
   "source": [
    "## Subscription and Authentication\n",
    "\n",
    "Now we are ready to train a model using the Service Ticket Intelligence API. This requires a valid subscription to the STI API.\n",
    "\n",
    "Note: Update the values for `service url`, `uaa url`, `client id` and `client secret` in the config file `sti_config.ini`. This config file is placed one directory above this notebook. These values will be available in `service_keys` of your STI instance in the cloud foundry cockpit."
   ]
  },
  {
   "cell_type": "code",
   "execution_count": null,
   "metadata": {},
   "outputs": [],
   "source": [
    "import configparser\n",
    "from pathlib import Path\n",
    "import sys\n",
    "\n",
    "sys.path.append(\"..\")\n",
    "from sti_functions import STIFunctions, get_connection_object"
   ]
  },
  {
   "cell_type": "code",
   "execution_count": null,
   "metadata": {},
   "outputs": [],
   "source": [
    "STI_BASE_DIR = Path.cwd().parent\n",
    "config_file_path = STI_BASE_DIR / 'default_key.json'\n",
    "\n",
    "connection = get_connection_object(config_file=config_file_path)\n",
    "sti = STIFunctions(connection)"
   ]
  },
  {
   "cell_type": "markdown",
   "metadata": {},
   "source": [
    "## List models\n",
    "\n",
    "Now lets do list model call using this python function to view all the models in this account"
   ]
  },
  {
   "cell_type": "code",
   "execution_count": null,
   "metadata": {
    "scrolled": false
   },
   "outputs": [],
   "source": [
    "sti.list_models()"
   ]
  },
  {
   "cell_type": "markdown",
   "metadata": {},
   "source": [
    "### Let's check if we need to delete any unused model\n",
    "Based on the model list above, ensure that the number of models does not exceed 20. Otherwise, we need to delete some unused model."
   ]
  },
  {
   "cell_type": "code",
   "execution_count": null,
   "metadata": {},
   "outputs": [],
   "source": [
    "# sti.delete_model(\"b3e0da989393450ba4b66e637722034a\")"
   ]
  },
  {
   "cell_type": "markdown",
   "metadata": {},
   "source": [
    "## File upload\n",
    "\n",
    "This process will take a few minutes to complete depending on the file size. If file upload is successful, the response text will contain a model id - an UUID identifier which we can use as a reference to the uploaded training file."
   ]
  },
  {
   "cell_type": "code",
   "execution_count": null,
   "metadata": {},
   "outputs": [],
   "source": [
    "payload = {\n",
    "    \"scenario\": {\n",
    "        \"desc\": \"Quora data for recommendation\",\n",
    "        \"type\": \"recommendation\",\n",
    "        \"language\": \"en\",\n",
    "        \"business_object\": \"ticket\",\n",
    "    },\n",
    "    \"mapping\": {\n",
    "        \"input\": input_cols,\n",
    "        \"output\": output_cols\n",
    "    },\n",
    "    \"training\": {\n",
    "        \"file\": \"{}\".format(\n",
    "            base64.b64encode(df.to_csv(index=False).encode(\"utf-8\")).decode(\"utf-8\")\n",
    "        )\n",
    "    },\n",
    "}\n",
    "response = sti.file_upload(payload)\n",
    "payload = {}\n",
    "our_model_id = response.get(\"model_id\")\n",
    "response"
   ]
  },
  {
   "cell_type": "markdown",
   "metadata": {},
   "source": [
    "## Start training on uploaded file\n",
    "\n",
    "Take the model id from file upload response text and pass it when in starting the model training"
   ]
  },
  {
   "cell_type": "code",
   "execution_count": null,
   "metadata": {
    "scrolled": true
   },
   "outputs": [],
   "source": [
    "# our_model_id = \"e44816c7732944288d85b890373eb5f4\"\n",
    "sti.start_model_training(model_id=our_model_id)"
   ]
  },
  {
   "cell_type": "markdown",
   "metadata": {},
   "source": [
    "## Wait for training to succeed\n",
    "\n",
    "After starting the model training, do a get model status and check if model status is `READY`\n",
    "\n",
    "The model status transitions from `NEW` to `PENDING_TRAINING` once training is submitted and will further transition to `IN_TRAINING` and finally `READY` when training succeeds"
   ]
  },
  {
   "cell_type": "code",
   "execution_count": null,
   "metadata": {
    "scrolled": false
   },
   "outputs": [],
   "source": [
    "status = sti.get_model_status(model_id=our_model_id)\n",
    "print(\"Model status: {}\".format(status.get('model_status')))"
   ]
  },
  {
   "cell_type": "markdown",
   "metadata": {},
   "source": [
    "Wait for model status to be `READY` before proceeding to next step. This will take upto 10-20 mins from the training submission time. Repeatedly run the above cell to get the latest model status"
   ]
  },
  {
   "cell_type": "markdown",
   "metadata": {},
   "source": [
    "Once the model status is `READY` proceed to next step."
   ]
  },
  {
   "cell_type": "markdown",
   "metadata": {},
   "source": [
    "## Model recall rate\n",
    "\n",
    "As this is an unsupervised model, we will retrieve the recall rate once training is completed and status becomes ready."
   ]
  },
  {
   "cell_type": "code",
   "execution_count": null,
   "metadata": {},
   "outputs": [],
   "source": [
    "# our_model_id = \"cc078a539d6a433a92f0ac0a2fb445d2\"\n",
    "status = sti.get_model_status(model_id=our_model_id)\n",
    "status"
   ]
  },
  {
   "cell_type": "markdown",
   "metadata": {},
   "source": [
    "## Activate the model\n",
    "\n",
    "Once you are satisfied with the results, model needs to activated before inference can be run on"
   ]
  },
  {
   "cell_type": "code",
   "execution_count": null,
   "metadata": {},
   "outputs": [],
   "source": [
    "sti.activate_model(model_id=our_model_id)"
   ]
  },
  {
   "cell_type": "markdown",
   "metadata": {},
   "source": [
    "## Wait for activation\n",
    "\n",
    "Wait till model status transition from `READY` to `LOADING` to `ACTIVE`"
   ]
  },
  {
   "cell_type": "code",
   "execution_count": null,
   "metadata": {
    "scrolled": true
   },
   "outputs": [],
   "source": [
    "status = sti.get_model_status(model_id=our_model_id)\n",
    "print(\"Model status: {}\".format(status.get('model_status')))"
   ]
  },
  {
   "cell_type": "markdown",
   "metadata": {},
   "source": [
    "It takes up to 10 - 15 minutes for the model status to transition from `READY` -> `LOADING` -> `ACTIVE`"
   ]
  },
  {
   "cell_type": "markdown",
   "metadata": {},
   "source": [
    "## Let's send some inference request\n",
    "\n",
    "Let's pick one of the data from training dataset"
   ]
  },
  {
   "cell_type": "code",
   "execution_count": null,
   "metadata": {},
   "outputs": [],
   "source": [
    "df.iloc[3]"
   ]
  },
  {
   "cell_type": "markdown",
   "metadata": {},
   "source": [
    "Reword the question and send the inference request. `field` should match that of the input column. Response should closest question which of might be same as our original question"
   ]
  },
  {
   "cell_type": "code",
   "execution_count": null,
   "metadata": {
    "scrolled": false
   },
   "outputs": [],
   "source": [
    "inference_payload = {\n",
    "    \"business_object\": \"ticket\",\n",
    "    \"messages\": [],\n",
    "    \"options\": {\n",
    "        \"recommendation_top_k\": 2\n",
    "    }\n",
    "}\n",
    "inference_payload['messages'].append(\n",
    "    {\n",
    "        'id': 1,\n",
    "        'contents': [\n",
    "            {\n",
    "                'field': 'subject',\n",
    "                'value': 'How to make physics easy to learn?'\n",
    "            }\n",
    "        ]\n",
    "    }\n",
    ")\n",
    "inference_response = sti.recommend(data_payload=inference_payload)\n",
    "inference_response"
   ]
  },
  {
   "cell_type": "markdown",
   "metadata": {},
   "source": [
    "## Deactivate model\n",
    "\n",
    "We can deactivate any active models here."
   ]
  },
  {
   "cell_type": "code",
   "execution_count": null,
   "metadata": {},
   "outputs": [],
   "source": [
    "# sti.deactivate_model(model_id=\"\")"
   ]
  },
  {
   "cell_type": "markdown",
   "metadata": {},
   "source": [
    "## Delete model\n",
    "\n",
    "We can delete any unused models here."
   ]
  },
  {
   "cell_type": "code",
   "execution_count": null,
   "metadata": {
    "scrolled": true
   },
   "outputs": [],
   "source": [
    "# sti.delete_model(model_id=\"\")"
   ]
  }
 ],
 "metadata": {
  "kernelspec": {
   "display_name": "Python 3",
   "language": "python",
   "name": "python3"
  },
  "language_info": {
   "codemirror_mode": {
    "name": "ipython",
    "version": 3
   },
   "file_extension": ".py",
   "mimetype": "text/x-python",
   "name": "python",
   "nbconvert_exporter": "python",
   "pygments_lexer": "ipython3",
   "version": "3.7.6"
  }
 },
 "nbformat": 4,
 "nbformat_minor": 2
}
